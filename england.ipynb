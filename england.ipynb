{
 "cells": [
  {
   "cell_type": "code",
   "execution_count": 19,
   "id": "874c47b5-5b30-49d2-add6-df3e08ce23c1",
   "metadata": {},
   "outputs": [
    {
     "name": "stdout",
     "output_type": "stream",
     "text": [
      "   Unnamed: 0        date   time            comp        round  day venue  \\\n",
      "0        1364  2020-09-12  12:30  Premier League  Matchweek 1  Sat  Away   \n",
      "1        1365  2020-09-19  20:00  Premier League  Matchweek 2  Sat  Home   \n",
      "2        1366  2020-09-28  20:00  Premier League  Matchweek 3  Mon  Away   \n",
      "3        1367  2020-10-04  14:00  Premier League  Matchweek 4  Sun  Home   \n",
      "4        1368  2020-10-17  17:30  Premier League  Matchweek 5  Sat  Away   \n",
      "\n",
      "  result   gf   ga  ... tkl+int  err  mid 3rd  att pen  att 3rd   fls   fld  \\\n",
      "0      W  3.0  0.0  ...      30  0.0    343.0     26.0    145.0  12.0  12.0   \n",
      "1      W  2.0  1.0  ...      19  1.0    423.0     28.0    166.0  11.0  12.0   \n",
      "2      L  1.0  3.0  ...      18  1.0    174.0     10.0     44.0   7.0  11.0   \n",
      "3      W  2.0  1.0  ...      18  1.0    410.0     14.0    169.0   3.0   8.0   \n",
      "4      L  0.0  1.0  ...      19  0.0    239.0     13.0     92.0  10.0  15.0   \n",
      "\n",
      "   off season     team  \n",
      "0  2.0   2021  Arsenal  \n",
      "1  5.0   2021  Arsenal  \n",
      "2  5.0   2021  Arsenal  \n",
      "3  0.0   2021  Arsenal  \n",
      "4  2.0   2021  Arsenal  \n",
      "\n",
      "[5 rows x 55 columns]\n",
      "<class 'pandas.core.frame.DataFrame'>\n",
      "RangeIndex: 2036 entries, 0 to 2035\n",
      "Data columns (total 55 columns):\n",
      " #   Column            Non-Null Count  Dtype  \n",
      "---  ------            --------------  -----  \n",
      " 0   Unnamed: 0        2036 non-null   int64  \n",
      " 1   date              2036 non-null   object \n",
      " 2   time              2036 non-null   object \n",
      " 3   comp              2036 non-null   object \n",
      " 4   round             2036 non-null   object \n",
      " 5   day               2036 non-null   object \n",
      " 6   venue             2036 non-null   object \n",
      " 7   result            2036 non-null   object \n",
      " 8   gf                2036 non-null   float64\n",
      " 9   ga                2036 non-null   float64\n",
      " 10  opponent          2036 non-null   object \n",
      " 11  xg_x              2036 non-null   float64\n",
      " 12  xga               2036 non-null   float64\n",
      " 13  poss              2036 non-null   float64\n",
      " 14  attendance        1332 non-null   float64\n",
      " 15  captain           2036 non-null   object \n",
      " 16  formation         2036 non-null   object \n",
      " 17  referee           2036 non-null   object \n",
      " 18  match report      2036 non-null   object \n",
      " 19  notes             0 non-null      float64\n",
      " 20  sh                2036 non-null   float64\n",
      " 21  sot               2036 non-null   float64\n",
      " 22  dist              2035 non-null   float64\n",
      " 23  xg_y              2036 non-null   float64\n",
      " 24  npxg              2036 non-null   float64\n",
      " 25  g-xg              2036 non-null   float64\n",
      " 26  sota              2036 non-null   float64\n",
      " 27  saves             2036 non-null   float64\n",
      " 28  save%             1986 non-null   float64\n",
      " 29  att (gk)          2036 non-null   float64\n",
      " 30  thr               2036 non-null   float64\n",
      " 31  psxg              2036 non-null   float64\n",
      " 32  psxg+/-           2036 non-null   float64\n",
      " 33  ast               2036 non-null   int64  \n",
      " 34  xag               2036 non-null   float64\n",
      " 35  xa                2036 non-null   float64\n",
      " 36  kp                2036 non-null   float64\n",
      " 37  1/3               2036 non-null   float64\n",
      " 38  ppa               2036 non-null   float64\n",
      " 39  crspa             2036 non-null   float64\n",
      " 40  prgp              2036 non-null   float64\n",
      " 41  attempted passes  2036 non-null   float64\n",
      " 42  completed passes  2036 non-null   float64\n",
      " 43  corner kicks      2036 non-null   float64\n",
      " 44  shots blocked     2036 non-null   float64\n",
      " 45  tkl+int           2036 non-null   int64  \n",
      " 46  err               2036 non-null   float64\n",
      " 47  mid 3rd           2036 non-null   float64\n",
      " 48  att pen           2036 non-null   float64\n",
      " 49  att 3rd           2036 non-null   float64\n",
      " 50  fls               2036 non-null   float64\n",
      " 51  fld               2036 non-null   float64\n",
      " 52  off               2036 non-null   float64\n",
      " 53  season            2036 non-null   int64  \n",
      " 54  team              2036 non-null   object \n",
      "dtypes: float64(38), int64(4), object(13)\n",
      "memory usage: 875.0+ KB\n",
      "None\n"
     ]
    }
   ],
   "source": [
    "import pandas as pd\n",
    "\n",
    "# Define the data path\n",
    "data_path = 'C:/Users/DELL/Desktop/dataset/match_data.csv'\n",
    "\n",
    "# Load the dataset\n",
    "df = pd.read_csv(data_path)\n",
    "\n",
    "# Display the first few rows of the dataset\n",
    "print(df.head())\n",
    "print(df.info())\n"
   ]
  },
  {
   "cell_type": "code",
   "execution_count": 20,
   "id": "9e3f326f-d7c6-4421-95c3-56e589cc72dc",
   "metadata": {},
   "outputs": [
    {
     "name": "stdout",
     "output_type": "stream",
     "text": [
      "  result   gf   ga         opponent  xg_x  xga  poss    sh  sot  dist  ...  \\\n",
      "0      W  3.0  0.0           Fulham   1.9  0.1  54.0  13.0  5.0  14.1  ...   \n",
      "1      W  2.0  1.0         West Ham   1.1  2.0  62.0   7.0  3.0  14.8  ...   \n",
      "2      L  1.0  3.0        Liverpool   1.3  2.7  34.0   4.0  3.0  15.0  ...   \n",
      "3      W  2.0  1.0    Sheffield Utd   0.6  0.2  64.0   6.0  5.0  16.3  ...   \n",
      "4      L  0.0  1.0  Manchester City   0.9  1.3  42.0  11.0  3.0  18.4  ...   \n",
      "\n",
      "   tkl+int  err  mid 3rd  att pen  att 3rd   fls   fld  off  season     team  \n",
      "0       30  0.0    343.0     26.0    145.0  12.0  12.0  2.0    2021  Arsenal  \n",
      "1       19  1.0    423.0     28.0    166.0  11.0  12.0  5.0    2021  Arsenal  \n",
      "2       18  1.0    174.0     10.0     44.0   7.0  11.0  5.0    2021  Arsenal  \n",
      "3       18  1.0    410.0     14.0    169.0   3.0   8.0  0.0    2021  Arsenal  \n",
      "4       19  0.0    239.0     13.0     92.0  10.0  15.0  2.0    2021  Arsenal  \n",
      "\n",
      "[5 rows x 42 columns]\n"
     ]
    }
   ],
   "source": [
    "# Drop unnecessary columns\n",
    "columns_to_drop = ['Unnamed: 0', 'date', 'time', 'comp', 'round', 'day', 'venue', 'attendance', 'captain', 'formation', 'referee', 'match report', 'notes']\n",
    "df.drop(columns=columns_to_drop, inplace=True)\n",
    "\n",
    "# Display the first few rows after dropping columns\n",
    "print(df.head())\n"
   ]
  },
  {
   "cell_type": "code",
   "execution_count": 17,
   "id": "61181e6b-0518-4a79-bcb0-b1ea20dfbcdf",
   "metadata": {},
   "outputs": [
    {
     "name": "stdout",
     "output_type": "stream",
     "text": [
      "  result   gf   ga  xg_x  xga  poss    sh  sot  dist  xg_y  ...  \\\n",
      "0      W  3.0  0.0   1.9  0.1  54.0  13.0  5.0  14.1   1.9  ...   \n",
      "1      W  2.0  1.0   1.1  2.0  62.0   7.0  3.0  14.8   1.1  ...   \n",
      "2      L  1.0  3.0   1.3  2.7  34.0   4.0  3.0  15.0   1.3  ...   \n",
      "3      W  2.0  1.0   0.6  0.2  64.0   6.0  5.0  16.3   0.6  ...   \n",
      "4      L  0.0  1.0   0.9  1.3  42.0  11.0  3.0  18.4   0.9  ...   \n",
      "\n",
      "   opponent_Manchester City  opponent_Manchester Utd  opponent_Newcastle Utd  \\\n",
      "0                     False                    False                   False   \n",
      "1                     False                    False                   False   \n",
      "2                     False                    False                   False   \n",
      "3                     False                    False                   False   \n",
      "4                      True                    False                   False   \n",
      "\n",
      "   opponent_Nott'ham Forest  opponent_Sheffield Utd  opponent_Southampton  \\\n",
      "0                     False                   False                 False   \n",
      "1                     False                   False                 False   \n",
      "2                     False                   False                 False   \n",
      "3                     False                    True                 False   \n",
      "4                     False                   False                 False   \n",
      "\n",
      "   opponent_Tottenham  opponent_West Brom  opponent_West Ham  opponent_Wolves  \n",
      "0               False               False              False            False  \n",
      "1               False               False               True            False  \n",
      "2               False               False              False            False  \n",
      "3               False               False              False            False  \n",
      "4               False               False              False            False  \n",
      "\n",
      "[5 rows x 86 columns]\n"
     ]
    }
   ],
   "source": [
    "# Encode categorical columns\n",
    "df = pd.get_dummies(df, columns=['team', 'opponent'], drop_first=True)\n",
    "\n",
    "# Display the first few rows after encoding\n",
    "print(df.head())\n"
   ]
  },
  {
   "cell_type": "code",
   "execution_count": 21,
   "id": "3c6a3695-d44c-4ce6-bbe6-f250e6d13538",
   "metadata": {},
   "outputs": [
    {
     "name": "stdout",
     "output_type": "stream",
     "text": [
      "   result   gf   ga  xg_x  xga  poss    sh  sot  dist  xg_y  ...  \\\n",
      "0       1  3.0  0.0   1.9  0.1  54.0  13.0  5.0  14.1   1.9  ...   \n",
      "1       1  2.0  1.0   1.1  2.0  62.0   7.0  3.0  14.8   1.1  ...   \n",
      "2      -1  1.0  3.0   1.3  2.7  34.0   4.0  3.0  15.0   1.3  ...   \n",
      "3       1  2.0  1.0   0.6  0.2  64.0   6.0  5.0  16.3   0.6  ...   \n",
      "4      -1  0.0  1.0   0.9  1.3  42.0  11.0  3.0  18.4   0.9  ...   \n",
      "\n",
      "   opponent_Manchester City  opponent_Manchester Utd  opponent_Newcastle Utd  \\\n",
      "0                     False                    False                   False   \n",
      "1                     False                    False                   False   \n",
      "2                     False                    False                   False   \n",
      "3                     False                    False                   False   \n",
      "4                      True                    False                   False   \n",
      "\n",
      "   opponent_Nott'ham Forest  opponent_Sheffield Utd  opponent_Southampton  \\\n",
      "0                     False                   False                 False   \n",
      "1                     False                   False                 False   \n",
      "2                     False                   False                 False   \n",
      "3                     False                    True                 False   \n",
      "4                     False                   False                 False   \n",
      "\n",
      "   opponent_Tottenham  opponent_West Brom  opponent_West Ham  opponent_Wolves  \n",
      "0               False               False              False            False  \n",
      "1               False               False               True            False  \n",
      "2               False               False              False            False  \n",
      "3               False               False              False            False  \n",
      "4               False               False              False            False  \n",
      "\n",
      "[5 rows x 86 columns]\n"
     ]
    }
   ],
   "source": [
    "# Encode the 'result' column\n",
    "result_mapping = {'W': 1, 'D': 0, 'L': -1}\n",
    "df['result'] = df['result'].map(result_mapping)\n",
    "\n",
    "# Encode other categorical columns\n",
    "df = pd.get_dummies(df, columns=['team', 'opponent'], drop_first=True)\n",
    "\n",
    "# Display the first few rows after encoding\n",
    "print(df.head())\n"
   ]
  },
  {
   "cell_type": "code",
   "execution_count": 22,
   "id": "a4ffd0da-20ee-400a-9eb9-c1030e0b93bc",
   "metadata": {},
   "outputs": [
    {
     "name": "stdout",
     "output_type": "stream",
     "text": [
      "   result   gf   ga  xg_x  xga  poss    sh  sot  dist  xg_y  ...  \\\n",
      "0       1  3.0  0.0   1.9  0.1  54.0  13.0  5.0  14.1   1.9  ...   \n",
      "1       1  2.0  1.0   1.1  2.0  62.0   7.0  3.0  14.8   1.1  ...   \n",
      "2      -1  1.0  3.0   1.3  2.7  34.0   4.0  3.0  15.0   1.3  ...   \n",
      "3       1  2.0  1.0   0.6  0.2  64.0   6.0  5.0  16.3   0.6  ...   \n",
      "4      -1  0.0  1.0   0.9  1.3  42.0  11.0  3.0  18.4   0.9  ...   \n",
      "\n",
      "   opponent_Manchester City  opponent_Manchester Utd  opponent_Newcastle Utd  \\\n",
      "0                     False                    False                   False   \n",
      "1                     False                    False                   False   \n",
      "2                     False                    False                   False   \n",
      "3                     False                    False                   False   \n",
      "4                      True                    False                   False   \n",
      "\n",
      "   opponent_Nott'ham Forest  opponent_Sheffield Utd  opponent_Southampton  \\\n",
      "0                     False                   False                 False   \n",
      "1                     False                   False                 False   \n",
      "2                     False                   False                 False   \n",
      "3                     False                    True                 False   \n",
      "4                     False                   False                 False   \n",
      "\n",
      "   opponent_Tottenham  opponent_West Brom  opponent_West Ham  opponent_Wolves  \n",
      "0               False               False              False            False  \n",
      "1               False               False               True            False  \n",
      "2               False               False              False            False  \n",
      "3               False               False              False            False  \n",
      "4               False               False              False            False  \n",
      "\n",
      "[5 rows x 86 columns]\n"
     ]
    }
   ],
   "source": [
    "# Handle missing values\n",
    "df.fillna(df.mean(), inplace=True)\n",
    "\n",
    "# Display the first few rows after handling missing values\n",
    "print(df.head())\n"
   ]
  },
  {
   "cell_type": "code",
   "execution_count": 23,
   "id": "91b1e8a2-e894-43b3-8709-b846505ce722",
   "metadata": {},
   "outputs": [
    {
     "name": "stdout",
     "output_type": "stream",
     "text": [
      "Cleaned data saved to C:/Users/DELL/Desktop/dataset/cleaned_team_data.csv\n"
     ]
    }
   ],
   "source": [
    "# Save the cleaned data\n",
    "cleaned_data_path = 'C:/Users/DELL/Desktop/dataset/cleaned_team_data.csv'\n",
    "df.to_csv(cleaned_data_path, index=False)\n",
    "\n",
    "print(f\"Cleaned data saved to {cleaned_data_path}\")\n"
   ]
  },
  {
   "cell_type": "code",
   "execution_count": 24,
   "id": "5162d338-f712-4d3a-8d49-bfbf102921c0",
   "metadata": {},
   "outputs": [
    {
     "name": "stdout",
     "output_type": "stream",
     "text": [
      "Model accuracy: 0.97\n",
      "Trained model saved to C:/Users/DELL/Desktop/dataset/trained_model.pkl\n"
     ]
    }
   ],
   "source": [
    "import pandas as pd\n",
    "from sklearn.model_selection import train_test_split\n",
    "from sklearn.ensemble import RandomForestClassifier\n",
    "from sklearn.metrics import accuracy_score\n",
    "import pickle\n",
    "\n",
    "# Load the cleaned dataset\n",
    "cleaned_data_path = 'C:/Users/DELL/Desktop/dataset/cleaned_team_data.csv'\n",
    "df = pd.read_csv(cleaned_data_path)\n",
    "\n",
    "# Define features and target\n",
    "X = df.drop('result', axis=1)\n",
    "y = df['result']\n",
    "\n",
    "# Split the data into training and testing sets\n",
    "X_train, X_test, y_train, y_test = train_test_split(X, y, test_size=0.2, random_state=42)\n",
    "\n",
    "# Train a Random Forest classifier\n",
    "model = RandomForestClassifier(n_estimators=100, random_state=42)\n",
    "model.fit(X_train, y_train)\n",
    "\n",
    "# Evaluate the model\n",
    "y_pred = model.predict(X_test)\n",
    "accuracy = accuracy_score(y_test, y_pred)\n",
    "print(f\"Model accuracy: {accuracy:.2f}\")\n",
    "\n",
    "# Save the trained model\n",
    "model_path = 'C:/Users/DELL/Desktop/dataset/trained_model.pkl'\n",
    "with open(model_path, 'wb') as file:\n",
    "    pickle.dump(model, file)\n",
    "\n",
    "print(f\"Trained model saved to {model_path}\")\n"
   ]
  },
  {
   "cell_type": "code",
   "execution_count": 25,
   "id": "66bf9e74-0d4b-4c98-8525-1f65405bb414",
   "metadata": {
    "scrolled": true
   },
   "outputs": [
    {
     "name": "stdout",
     "output_type": "stream",
     "text": [
      "Index(['result', 'gf', 'ga', 'xg_x', 'xga', 'poss', 'sh', 'sot', 'dist',\n",
      "       'xg_y', 'npxg', 'g-xg', 'sota', 'saves', 'save%', 'att (gk)', 'thr',\n",
      "       'psxg', 'psxg+/-', 'ast', 'xag', 'xa', 'kp', '1/3', 'ppa', 'crspa',\n",
      "       'prgp', 'attempted passes', 'completed passes', 'corner kicks',\n",
      "       'shots blocked', 'tkl+int', 'err', 'mid 3rd', 'att pen', 'att 3rd',\n",
      "       'fls', 'fld', 'off', 'season', 'team_Aston Villa', 'team_Bournemouth',\n",
      "       'team_Brentford', 'team_Brighton and Hove Albion', 'team_Burnley',\n",
      "       'team_Chelsea', 'team_Crystal Palace', 'team_Everton', 'team_Fulham',\n",
      "       'team_Leeds United', 'team_Leicester City', 'team_Liverpool',\n",
      "       'team_Luton Town', 'team_Manchester City', 'team_Manchester United',\n",
      "       'team_Newcastle United', 'team_Nottingham Forest',\n",
      "       'team_Sheffield United', 'team_Southampton', 'team_Tottenham Hotspur',\n",
      "       'team_West Bromwich Albion', 'team_West Ham United',\n",
      "       'team_Wolverhampton Wanderers', 'opponent_Aston Villa',\n",
      "       'opponent_Bournemouth', 'opponent_Brentford', 'opponent_Brighton',\n",
      "       'opponent_Burnley', 'opponent_Chelsea', 'opponent_Crystal Palace',\n",
      "       'opponent_Everton', 'opponent_Fulham', 'opponent_Leeds United',\n",
      "       'opponent_Leicester City', 'opponent_Liverpool', 'opponent_Luton Town',\n",
      "       'opponent_Manchester City', 'opponent_Manchester Utd',\n",
      "       'opponent_Newcastle Utd', 'opponent_Nott'ham Forest',\n",
      "       'opponent_Sheffield Utd', 'opponent_Southampton', 'opponent_Tottenham',\n",
      "       'opponent_West Brom', 'opponent_West Ham', 'opponent_Wolves'],\n",
      "      dtype='object')\n"
     ]
    }
   ],
   "source": [
    "import pandas as pd\n",
    "\n",
    "# Load the cleaned dataset\n",
    "cleaned_data_path = 'C:/Users/DELL/Desktop/dataset/cleaned_team_data.csv'\n",
    "df = pd.read_csv(cleaned_data_path)\n",
    "\n",
    "# Display the column names\n",
    "print(df.columns)\n"
   ]
  },
  {
   "cell_type": "code",
   "execution_count": null,
   "id": "93590fc9-3fff-461d-968c-5387a0ec637a",
   "metadata": {},
   "outputs": [],
   "source": []
  }
 ],
 "metadata": {
  "kernelspec": {
   "display_name": "Python 3 (ipykernel)",
   "language": "python",
   "name": "python3"
  },
  "language_info": {
   "codemirror_mode": {
    "name": "ipython",
    "version": 3
   },
   "file_extension": ".py",
   "mimetype": "text/x-python",
   "name": "python",
   "nbconvert_exporter": "python",
   "pygments_lexer": "ipython3",
   "version": "3.11.7"
  }
 },
 "nbformat": 4,
 "nbformat_minor": 5
}
